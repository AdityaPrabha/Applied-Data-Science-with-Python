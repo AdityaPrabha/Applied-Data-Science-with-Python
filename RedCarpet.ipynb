{
  "nbformat": 4,
  "nbformat_minor": 0,
  "metadata": {
    "colab": {
      "name": "RedCarpet.ipynb",
      "version": "0.3.2",
      "provenance": [],
      "collapsed_sections": [],
      "include_colab_link": true
    },
    "kernelspec": {
      "name": "python3",
      "display_name": "Python 3"
    }
  },
  "cells": [
    {
      "cell_type": "markdown",
      "metadata": {
        "id": "view-in-github",
        "colab_type": "text"
      },
      "source": [
        "<a href=\"https://colab.research.google.com/github/AdityaPrabha/Applied-Data-Science-with-Python/blob/master/RedCarpet.ipynb\" target=\"_parent\"><img src=\"https://colab.research.google.com/assets/colab-badge.svg\" alt=\"Open In Colab\"/></a>"
      ]
    },
    {
      "cell_type": "markdown",
      "metadata": {
        "id": "LJqmF7UeXJCj",
        "colab_type": "text"
      },
      "source": [
        "Name - Aditya Prabha                       \n"
      ]
    },
    {
      "cell_type": "markdown",
      "metadata": {
        "id": "mhOZ4wKvrNg_",
        "colab_type": "text"
      },
      "source": [
        "Email-id - prabhaaditya37@gmail.com\n"
      ]
    },
    {
      "cell_type": "markdown",
      "metadata": {
        "id": "JLeBelkWXXGO",
        "colab_type": "text"
      },
      "source": [
        "Github link - https://github.com/AdityaPrabha\n"
      ]
    },
    {
      "cell_type": "code",
      "metadata": {
        "id": "awgYvLUrZ1yS",
        "colab_type": "code",
        "colab": {}
      },
      "source": [
        "import pandas as pd\n",
        "import numpy as np\n",
        "from bokeh.plotting import figure, show\n",
        "from bokeh.io import output_notebook\n",
        "from bokeh.models import Legend\n",
        "import matplotlib.pyplot as plt\n",
        "%matplotlib inline\n",
        "import seaborn as sns;sns.set()\n",
        "from datetime import date\n",
        "from nsepy import get_history\n",
        "from sklearn import metrics\n",
        "\n",
        "output_notebooks()"
      ],
      "execution_count": 0,
      "outputs": []
    },
    {
      "cell_type": "code",
      "metadata": {
        "id": "PdpeAZ0zoyYb",
        "colab_type": "code",
        "colab": {}
      },
      "source": [
        "infy = get_history(symbol=\"INFY\",\n",
        "                  start = date(2015,1,1),\n",
        "                  end = date(2016,12,31))\n",
        "\n",
        "tcs = get_history(symbol=\"TCS\", \n",
        "                 start = date(2015,1,1),\n",
        "                 end = date(2016,12,31))\n",
        "\n",
        "\n",
        "#tcs = pd.read_csv(\"C:/Users/Cartan/tcs.csv\")\n",
        "#infy = pd.read_csv(\"C:/Users/Cartan/infy.csv\")\n",
        "tcs.reset_index(level=0, inplace=True)\n",
        "infy.reset_index(level=0, inplace=True)\n"
      ],
      "execution_count": 0,
      "outputs": []
    },
    {
      "cell_type": "code",
      "metadata": {
        "id": "ne69jjjGu1o5",
        "colab_type": "code",
        "colab": {}
      },
      "source": [
        "tcs.head()"
      ],
      "execution_count": 0,
      "outputs": []
    },
    {
      "cell_type": "code",
      "metadata": {
        "id": "ZZh9X9nuu62s",
        "colab_type": "code",
        "colab": {}
      },
      "source": [
        "infy.head()"
      ],
      "execution_count": 0,
      "outputs": []
    },
    {
      "cell_type": "code",
      "metadata": {
        "id": "0sPUIl60vCot",
        "colab_type": "code",
        "colab": {}
      },
      "source": [
        "tcs.info()"
      ],
      "execution_count": 0,
      "outputs": []
    },
    {
      "cell_type": "code",
      "metadata": {
        "id": "EHZ_OyDRvK0-",
        "colab_type": "code",
        "colab": {}
      },
      "source": [
        "infy.info()"
      ],
      "execution_count": 0,
      "outputs": []
    },
    {
      "cell_type": "markdown",
      "metadata": {
        "id": "mFDRUza14MCn",
        "colab_type": "text"
      },
      "source": [
        "__Part 1:__\n"
      ]
    },
    {
      "cell_type": "markdown",
      "metadata": {
        "id": "9-LTIQRj4eWf",
        "colab_type": "text"
      },
      "source": [
        "__Create 4,16,....,52 week moving average(closing price) for each stock and index. This should happen through a function.__"
      ]
    },
    {
      "cell_type": "code",
      "metadata": {
        "id": "1HEoEGoX4lGh",
        "colab_type": "code",
        "colab": {}
      },
      "source": [
        "def movingAverage(Stock,N):\n",
        "    cumsum, moving_aves = [0], []\n",
        "    for i, x in enumerate(Stock, 1):\n",
        "        cumsum.append(cumsum[i-1] + x)\n",
        "        if i>=N:\n",
        "            moving_ave = (cumsum[i] - cumsum[i-N])/N\n",
        "            moving_aves.append(moving_ave)\n",
        "    return(moving_aves)\n",
        "    print(moving_aves)"
      ],
      "execution_count": 0,
      "outputs": []
    },
    {
      "cell_type": "code",
      "metadata": {
        "id": "-5Vqvdpv47ef",
        "colab_type": "code",
        "colab": {}
      },
      "source": [
        "k = infy[\"Close\"]                                     # where k is stock name (INFY ,TCS)\n",
        "N = 52                                                 # where N is equal to no. of weeks\n",
        "m= (N*7)\n",
        "p = movingAverage(k,m)\n",
        "p = pd.DataFrame(p)\n",
        "p"
      ],
      "execution_count": 0,
      "outputs": []
    },
    {
      "cell_type": "markdown",
      "metadata": {
        "id": "ZSFeZuc26ouL",
        "colab_type": "text"
      },
      "source": [
        "3.1. Volume Shocks: If the volume traded is 10% higher/lower than the previous day - make a 0/1 boolean time series for shock, 0/1 dummy-coded time series for direction of shock.\n",
        "\n",
        "3.2. Price Shocks: If closing price at T vs T+1 has a difference > 2%, then 0/1 boolean time series for shock, 0/1 dummy-coded time series for direction of shock."
      ]
    },
    {
      "cell_type": "markdown",
      "metadata": {
        "id": "x47hp4xk8EvG",
        "colab_type": "text"
      },
      "source": [
        "**INFY**"
      ]
    },
    {
      "cell_type": "code",
      "metadata": {
        "id": "DtZwPDpp5idU",
        "colab_type": "code",
        "colab": {}
      },
      "source": [
        "# closing price of INFY at T vs T+1 has a difference > 2%\n",
        "infy[\"Close_diff > 2%\"] = (infy['Close'] - infy['Close'].shift(1))>(0.02 * infy[\"Close\"])\n",
        "dummy_c = pd.get_dummies(infy[\"Close_diff > 2%\"])\n",
        "dummy_c = pd.DataFrame(dummy_c)\n",
        "\n",
        "# volume traded of INFY is 10% higher/lower than previous day\n",
        "infy['Volume_diff> 10%'] = (infy['Volume'] - infy['Volume'].shift(1))>(0.1 * infy[\"Volume\"])\n",
        "dummy_v = pd.get_dummies(infy['Volume_diff> 10%'])\n",
        "dummy_v = pd.DataFrame(dummy_v)\n",
        "\n",
        "\n",
        "ic = pd.concat([infy[\"Close\"],infy[\"Close_diff > 2%\"],dummy_c], axis=1)\n",
        "icc = pd.concat([infy[\"Date\"],infy[\"Symbol\"], ic],axis=1)\n",
        "iv = pd.concat([infy[\"Volume\"],infy[\"Volume_diff> 10%\"],dummy_v], axis=1)\n",
        "infy_dummy = pd.concat([icc,iv], axis=1)"
      ],
      "execution_count": 0,
      "outputs": []
    },
    {
      "cell_type": "code",
      "metadata": {
        "id": "jJI9gVP97_E0",
        "colab_type": "code",
        "colab": {}
      },
      "source": [
        "infy_dummy.head()"
      ],
      "execution_count": 0,
      "outputs": []
    },
    {
      "cell_type": "markdown",
      "metadata": {
        "id": "EB2XgC1n8WAz",
        "colab_type": "text"
      },
      "source": [
        "**TCS**"
      ]
    },
    {
      "cell_type": "code",
      "metadata": {
        "id": "kzwQNKg48Xf9",
        "colab_type": "code",
        "colab": {}
      },
      "source": [
        "# closing price of TCS at T vs T+1 has a difference > 2%\n",
        "tcs[\"Close_diff > 2%\"] = (tcs['Close'] - tcs['Close'].shift(1))>(0.02 * tcs[\"Close\"])\n",
        "dummy_c = pd.get_dummies(tcs[\"Close_diff > 2%\"])\n",
        "dummy_c = pd.DataFrame(dummy_c)\n",
        "\n",
        "# volume traded of TCS is 10% higher/lower than previous day\n",
        "tcs['Volume_diff> 10%'] = (tcs['Volume'] - tcs['Volume'].shift(1))>(0.1 * tcs[\"Volume\"])\n",
        "dummy_v = pd.get_dummies(tcs['Volume_diff> 10%'])\n",
        "dummy_v = pd.DataFrame(dummy_v)\n",
        "\n",
        "tc = pd.concat([tcs[\"Close\"],tcs[\"Close_diff > 2%\"],dummy_c], axis=1)\n",
        "tcc = pd.concat([tcs[\"Date\"],tcs[\"Symbol\"], tc],axis=1)\n",
        "tv = pd.concat([tcs[\"Volume\"],tcs[\"Volume_diff> 10%\"],dummy_v], axis=1)\n",
        "tcs_dummy = pd.concat([tcc,tv], axis=1)"
      ],
      "execution_count": 0,
      "outputs": []
    },
    {
      "cell_type": "code",
      "metadata": {
        "id": "UskP9J-u8eQ6",
        "colab_type": "code",
        "colab": {}
      },
      "source": [
        "tcs_dummy.head()"
      ],
      "execution_count": 0,
      "outputs": []
    },
    {
      "cell_type": "markdown",
      "metadata": {
        "id": "nxdMkWeN8tAo",
        "colab_type": "text"
      },
      "source": [
        "**Part 2: Data Visualization**"
      ]
    },
    {
      "cell_type": "code",
      "metadata": {
        "id": "sFnBKM7P8eOn",
        "colab_type": "code",
        "colab": {}
      },
      "source": [
        "fig = figure(plot_width=800, plot_height=400)\n",
        "\n",
        "\n",
        "\n",
        "X = infy['Date']\n",
        "Y = infy['Close']\n",
        "\n",
        "fig.line(X,Y, line_width=2, legend='INFY Close')\n",
        "\n",
        "show(fig)"
      ],
      "execution_count": 0,
      "outputs": []
    },
    {
      "cell_type": "code",
      "metadata": {
        "id": "DNuJhd6Y9uxG",
        "colab_type": "code",
        "colab": {}
      },
      "source": [
        "fig = figure(plot_width=800, plot_height=400)\n",
        "\n",
        "\n",
        "\n",
        "X = tcs['Date']\n",
        "Y = tcs['Close']\n",
        "fig.line(X,Y, line_width=2, legend='TCS Close')\n",
        "\n",
        "show(fig)"
      ],
      "execution_count": 0,
      "outputs": []
    },
    {
      "cell_type": "code",
      "metadata": {
        "id": "f8TvTG8E8eMT",
        "colab_type": "code",
        "colab": {}
      },
      "source": [
        "fig1 = figure(plot_width=800, plot_height=400, title = 'infy and tcs')\n",
        "\n",
        "fig1.multi_line([infy['Date'],infy['Date']], [infy['Close'],tcs['Close']],\n",
        "             color=[\"blue\", \"red\"], alpha=[0.8, 0.8], line_width=2)\n",
        "\n",
        "show(fig1)"
      ],
      "execution_count": 0,
      "outputs": []
    },
    {
      "cell_type": "code",
      "metadata": {
        "id": "uHIdIlue8eJ0",
        "colab_type": "code",
        "colab": {}
      },
      "source": [
        "movingAverage1 = infy[\"Close\"].rolling(window=10).mean()\n",
        "movingSTD1 = infy[\"Close\"].rolling(window=10).std()\n",
        "\n",
        "movingAverage2 = infy[\"Close\"].rolling(window=75).mean()\n",
        "movingSTD2 = infy[\"Close\"].rolling(window=75).std()\n",
        "\n",
        "fig1 = figure(plot_width=800, plot_height=400)\n",
        "\n",
        "fig1.multi_line([infy['Date'],infy['Date'],infy['Date']], [infy['Close'], movingAverage1, movingSTD1],\n",
        "             color=[\"blue\", \"red\", \"black\"], alpha=[0.8, 0.8, 0.8], line_width=2)\n",
        "show(fig1)\n",
        "\n",
        "plt.figure(figsize=(20,7))\n",
        "fig2 = figure(plot_width=800, plot_height=400)\n",
        "\n",
        "fig2.multi_line([infy['Date'],infy['Date'],infy['Date']], [infy['Close'], movingAverage2, movingSTD2],\n",
        "             color=[\"blue\", \"red\", \"black\"], alpha=[0.8, 0.8, 0.8], line_width=2)\n",
        "show(fig2)"
      ],
      "execution_count": 0,
      "outputs": []
    },
    {
      "cell_type": "code",
      "metadata": {
        "id": "3QTeyY_O8eHs",
        "colab_type": "code",
        "colab": {}
      },
      "source": [
        "movingAverage1 = tcs[\"Close\"].rolling(window=10).mean()\n",
        "movingSTD1 = tcs[\"Close\"].rolling(window=10).std()\n",
        "\n",
        "movingAverage2 = tcs[\"Close\"].rolling(window=75).mean()\n",
        "movingSTD2 = tcs[\"Close\"].rolling(window=75).std()\n",
        "\n",
        "fig1 = figure(plot_width=800, plot_height=400)\n",
        "\n",
        "fig1.multi_line([tcs['Date'],tcs['Date'],tcs['Date']], [tcs['Close'], movingAverage1, movingSTD1],\n",
        "             color=[\"blue\", \"red\", \"black\"], alpha=[0.8, 0.8, 0.8], line_width=2)\n",
        "show(fig1)\n",
        "\n",
        "plt.figure(figsize=(20,7))\n",
        "fig2 = figure(plot_width=800, plot_height=400)\n",
        "\n",
        "fig2.multi_line([tcs['Date'],tcs['Date'],tcs['Date']], [tcs['Close'], movingAverage2, movingSTD2],\n",
        "             color=[\"blue\", \"red\", \"black\"], alpha=[0.8, 0.8, 0.8], line_width=2)\n",
        "show(fig2)"
      ],
      "execution_count": 0,
      "outputs": []
    },
    {
      "cell_type": "markdown",
      "metadata": {
        "id": "gMyMXYVp_BAM",
        "colab_type": "text"
      },
      "source": [
        "**Partial Autocorrelation Factor (PACF) & Autocorrelation Factor (ACF)**"
      ]
    },
    {
      "cell_type": "markdown",
      "metadata": {
        "id": "DK_LejZ__UF-",
        "colab_type": "text"
      },
      "source": [
        "**TCS**"
      ]
    },
    {
      "cell_type": "code",
      "metadata": {
        "id": "k21bZjVA8eFA",
        "colab_type": "code",
        "colab": {}
      },
      "source": [
        "from statsmodels.tsa.stattools import adfuller\n",
        "def test_stationarity(timeseries):\n",
        "    \n",
        "    # Determining rolling statistics\n",
        "    movingAverage = timeseries.rolling(window = 52).mean()\n",
        "    movingSTD = timeseries.rolling(window = 52).std()\n",
        "    \n",
        "    # Plot rolling statistics\n",
        "    plt.figure(figsize=(20,7))\n",
        "    orig = plt.plot(timeseries, color = 'blue', label = 'Original')\n",
        "    mean = plt.plot(movingAverage, color = 'red', label = 'Rolling Mean')\n",
        "    std = plt.plot(movingSTD, color = 'black', label = 'Rolling Std')\n",
        "    plt.legend(loc = 'best')\n",
        "    plt.title('Rolling Mean & Standard Deviation')\n",
        "    plt.show(block = False)\n",
        "    \n",
        "    # Perform Dickey-Fuller Test:\n",
        "    print('Results of Dickey-Fuller Test:')\n",
        "    dftest = adfuller(timeseries, autolag = 'AIC')\n",
        "    dfoutput = pd.Series(dftest[0:4], index = ['Test Statistics', 'p-value', '#Lags Used', 'Number of Observation Used'])\n",
        "    for key, value in dftest[4].items():\n",
        "        dfoutput['Critical Value (%s)'%key] = value\n",
        "    print(dfoutput)"
      ],
      "execution_count": 0,
      "outputs": []
    },
    {
      "cell_type": "code",
      "metadata": {
        "id": "uag2WFvp8eCo",
        "colab_type": "code",
        "colab": {}
      },
      "source": [
        "test_stationarity(tcs[\"Close\"])"
      ],
      "execution_count": 0,
      "outputs": []
    },
    {
      "cell_type": "markdown",
      "metadata": {
        "id": "-gEv7-xx_dzd",
        "colab_type": "text"
      },
      "source": [
        "**Reject null hypothesis, since p-value < 1, and critical value greater than test statistics**"
      ]
    },
    {
      "cell_type": "code",
      "metadata": {
        "id": "39CnOQI48eAN",
        "colab_type": "code",
        "colab": {}
      },
      "source": [
        "dataset_log = np.log(tcs[\"Close\"])"
      ],
      "execution_count": 0,
      "outputs": []
    },
    {
      "cell_type": "code",
      "metadata": {
        "id": "Vg6w9GXu8d9s",
        "colab_type": "code",
        "colab": {}
      },
      "source": [
        "test_stationarity(dataset_log)"
      ],
      "execution_count": 0,
      "outputs": []
    },
    {
      "cell_type": "code",
      "metadata": {
        "id": "5VMQe94a8d62",
        "colab_type": "code",
        "colab": {}
      },
      "source": [
        "#  PACF plots\n",
        "\n",
        "from statsmodels.tsa.stattools import pacf\n",
        "def Pacf(dataset_log):\n",
        "    \n",
        "    dataset_pacf = pacf(dataset_log, nlags = 20, method = 'ols')\n",
        "\n",
        "    plt.figure(figsize=(20,7))\n",
        "\n",
        "    # Plot PACF:\n",
        "\n",
        "\n",
        "    '''plt.subplot(122)\n",
        "    plt.plot(dataset_pacf)\n",
        "    plt.axhline(y = 0, linestyle = '--', color = 'gray')\n",
        "    plt.axhline(y = -1.96 / np.sqrt(len(dataset_log)), linestyle = '--', color = 'gray')\n",
        "    plt.axhline(y = 1.96/np.sqrt(len(dataset_log)), linestyle = '--', color = 'gray')\n",
        "    plt.title('Partial Autocorrelation Function')\n",
        "    plt.tight_layout()\n",
        "       \n",
        "    print(dataset_pacf)\n",
        "    '''\n",
        "    x = np.linspace(0,len(dataset_pacf),len(dataset_pacf))\n",
        "    y = [0*i for i in x]\n",
        "    y1 = [-1.96 / np.sqrt(len(dataset_log)) for i in range(len(dataset_pacf))]\n",
        "    y2 = [+1.96 / np.sqrt(len(dataset_log)) for i in range(len(dataset_pacf))]\n",
        "    fig1 = figure(plot_width=800, plot_height=400)\n",
        "\n",
        "    fig1.multi_line([x,x,x,x], [dataset_pacf,y,y1,y2],\n",
        "             color=[\"blue\", \"grey\", \"grey\", \"grey\"], alpha=[0.8, 0.8, 0.8, 0.8], line_width=2)\n",
        "    show(fig1)"
      ],
      "execution_count": 0,
      "outputs": []
    },
    {
      "cell_type": "code",
      "metadata": {
        "id": "CUJsuOjt8d3Y",
        "colab_type": "code",
        "colab": {}
      },
      "source": [
        "Pacf(dataset_log)"
      ],
      "execution_count": 0,
      "outputs": []
    },
    {
      "cell_type": "markdown",
      "metadata": {
        "id": "35V5UwhWAFjC",
        "colab_type": "text"
      },
      "source": [
        "**INFY**"
      ]
    },
    {
      "cell_type": "code",
      "metadata": {
        "id": "ZiQzqi9zAHeU",
        "colab_type": "code",
        "colab": {}
      },
      "source": [
        "test_stationarity(infy[\"Close\"])"
      ],
      "execution_count": 0,
      "outputs": []
    },
    {
      "cell_type": "code",
      "metadata": {
        "id": "ZhjUNwxUALQX",
        "colab_type": "code",
        "colab": {}
      },
      "source": [
        "dataset_log = np.log(infy[\"Close\"])"
      ],
      "execution_count": 0,
      "outputs": []
    },
    {
      "cell_type": "code",
      "metadata": {
        "id": "syoO6LSgAQE0",
        "colab_type": "code",
        "colab": {}
      },
      "source": [
        "test_stationarity(dataset_log)"
      ],
      "execution_count": 0,
      "outputs": []
    },
    {
      "cell_type": "code",
      "metadata": {
        "id": "4clmDL-6AYoS",
        "colab_type": "code",
        "colab": {}
      },
      "source": [
        "Pacf(dataset_log)"
      ],
      "execution_count": 0,
      "outputs": []
    },
    {
      "cell_type": "markdown",
      "metadata": {
        "id": "WQ8O7WJGAfSY",
        "colab_type": "text"
      },
      "source": [
        "**Part 3: Data Modeling**"
      ]
    },
    {
      "cell_type": "markdown",
      "metadata": {
        "id": "SlsQtHk_AlAr",
        "colab_type": "text"
      },
      "source": [
        "**Linear Model**"
      ]
    },
    {
      "cell_type": "code",
      "metadata": {
        "id": "CvI8UlOZAb2t",
        "colab_type": "code",
        "colab": {}
      },
      "source": [
        "feature_cols = ['Prev Close', 'Open']            \n",
        "X = infy[feature_cols]     \n",
        "y = infy[\"Close\"]"
      ],
      "execution_count": 0,
      "outputs": []
    },
    {
      "cell_type": "code",
      "metadata": {
        "id": "BVdHxutJAsCf",
        "colab_type": "code",
        "colab": {}
      },
      "source": [
        "def linear_reg( X, y, RandomizedSearchCV = False):\n",
        "    \n",
        "    from sklearn.model_selection import train_test_split\n",
        "    X_train, X_test, y_train, y_test = train_test_split(X, y,test_size = 0.2, random_state=1) \n",
        "    \n",
        "    from sklearn.linear_model import LinearRegression\n",
        "    linreg = LinearRegression()\n",
        "    \n",
        "    if not(RandomizedSearchCV):\n",
        "        linreg.fit(X_train, y_train) \n",
        "        \n",
        "        feature_cols.insert(0,'Intercept')\n",
        "        coef = linreg.coef_.tolist()\n",
        "        coef.insert(0, linreg.intercept_)\n",
        "        \n",
        "        eq1 = zip(feature_cols, coef)\n",
        "        for c1,c2 in eq1:\n",
        "            print(c1,\":-\",c2)\n",
        "        \n",
        "        # Root Mean Squared Error (RMSE) is the square root of the mean of the squared errors:\n",
        "        y_pred_train = linreg.predict(X_train)  \n",
        "        y_pred_test = linreg.predict(X_test)     \n",
        "        \n",
        "        RMSE_train = np.sqrt( metrics.mean_squared_error(y_train, y_pred_train))\n",
        "        RMSE_test = np.sqrt(metrics.mean_squared_error(y_test, y_pred_test))\n",
        "        print('RMSE for training set is {}'.format(RMSE_train))\n",
        "        print('RMSE for test set is {}'.format(RMSE_test))\n",
        "    \n",
        "        # R-Squared and Ajdusted R-Squared of Training\n",
        "\n",
        "        yhat = linreg.predict(X_train)\n",
        "        SS_Residual = sum((y_train-yhat)**2)\n",
        "        SS_Total = sum((y_train-np.mean(y_train))**2)\n",
        "        r_squared = 1 - (float(SS_Residual))/SS_Total\n",
        "        adjusted_r_squared = 1 - (1-r_squared)*(len(y_train)-1)/(len(y_train)-X_train.shape[1]-1)\n",
        "        print(\"R-Squared of Training = \",r_squared)\n",
        "        print(\"Adjusted R-Squared of Training = \", adjusted_r_squared)\n",
        "        \n",
        "        \n",
        "        # R-Squared and Ajdusted R-Squared of Testing\n",
        "\n",
        "        yhat = linreg.predict(X_test)\n",
        "        SS_Residual = sum((y_test-yhat)**2)\n",
        "        SS_Total = sum((y_test-np.mean(y_test))**2)\n",
        "        r_squared = 1 - (float(SS_Residual))/SS_Total\n",
        "        adjusted_r_squared = 1 - (1-r_squared)*(len(y_test)-1)/(len(y_test)-X_test.shape[1]-1)\n",
        "        print(\"R-Squared of Testing = \",r_squared)\n",
        "        print(\"Adjusted R-Squared of Testing = \",adjusted_r_squared)\n",
        "        \n",
        "        \n",
        "    else:\n",
        "        from sklearn.model_selection import RandomizedSearchCV\n",
        "        parameters = {'normalize':[True,False], 'copy_X':[True, False]}\n",
        "        linreg = RandomizedSearchCV(linreg,parameters,n_iter=10, cv = None)\n",
        "        linreg.fit(X_train, y_train)                                       \n",
        "        print(\"Mean cross-validated score of the best_estimator : \", linreg.best_score_)  \n",
        "        \n",
        "        y_pred_test = linreg.predict(X_test)                                               \n",
        "\n",
        "        RMSE_test = (metrics.mean_squared_error(y_test, y_pred_test))             \n",
        "        print('RMSE for the test set is {}'.format(RMSE_test))\n",
        "\n",
        "    return(linreg)"
      ],
      "execution_count": 0,
      "outputs": []
    },
    {
      "cell_type": "markdown",
      "metadata": {
        "id": "zfO5UQC7BC4L",
        "colab_type": "text"
      },
      "source": [
        "**INFY**"
      ]
    },
    {
      "cell_type": "markdown",
      "metadata": {
        "id": "SF6VSMkrBHba",
        "colab_type": "text"
      },
      "source": [
        "**Without Grid Search**"
      ]
    },
    {
      "cell_type": "code",
      "metadata": {
        "id": "WHuOYL4cA8VK",
        "colab_type": "code",
        "colab": {}
      },
      "source": [
        "linreg = linear_reg(X, y)"
      ],
      "execution_count": 0,
      "outputs": []
    },
    {
      "cell_type": "markdown",
      "metadata": {
        "id": "EAJWVbCUBWLF",
        "colab_type": "text"
      },
      "source": [
        "**Applying Grid Search method for exhaustive search over specified parameter values of the estimator**"
      ]
    },
    {
      "cell_type": "code",
      "metadata": {
        "id": "0aSoKLUPA8SI",
        "colab_type": "code",
        "colab": {}
      },
      "source": [
        "linreg=linear_reg(X,y, RandomizedSearchCV = True)"
      ],
      "execution_count": 0,
      "outputs": []
    },
    {
      "cell_type": "markdown",
      "metadata": {
        "id": "7OsNLXMcB0JL",
        "colab_type": "text"
      },
      "source": [
        "**TCS**"
      ]
    },
    {
      "cell_type": "code",
      "metadata": {
        "id": "Z4NFJCnYA8PH",
        "colab_type": "code",
        "colab": {}
      },
      "source": [
        "feature_cols = ['Prev Close', 'Open']\n",
        "X = tcs[feature_cols]     \n",
        "y = tcs[\"Close\"]"
      ],
      "execution_count": 0,
      "outputs": []
    },
    {
      "cell_type": "markdown",
      "metadata": {
        "id": "y9_etscvCAap",
        "colab_type": "text"
      },
      "source": [
        "**Without Grid Search**"
      ]
    },
    {
      "cell_type": "code",
      "metadata": {
        "id": "qlUcpQqQA8L2",
        "colab_type": "code",
        "colab": {}
      },
      "source": [
        "linreg = linear_reg(X, y)"
      ],
      "execution_count": 0,
      "outputs": []
    },
    {
      "cell_type": "markdown",
      "metadata": {
        "id": "jsION0o3CINA",
        "colab_type": "text"
      },
      "source": [
        "**Applying Grid Search method for exhaustive search over specified parameter values of the estimator**"
      ]
    },
    {
      "cell_type": "code",
      "metadata": {
        "id": "2jizaDBzA8Ig",
        "colab_type": "code",
        "colab": {}
      },
      "source": [
        "linreg=linear_reg(X,y, RandomizedSearchCV = True)"
      ],
      "execution_count": 0,
      "outputs": []
    },
    {
      "cell_type": "code",
      "metadata": {
        "id": "Pi_rw1MQA8Fo",
        "colab_type": "code",
        "colab": {}
      },
      "source": [
        ""
      ],
      "execution_count": 0,
      "outputs": []
    },
    {
      "cell_type": "code",
      "metadata": {
        "id": "UqIG4ERUA8C3",
        "colab_type": "code",
        "colab": {}
      },
      "source": [
        ""
      ],
      "execution_count": 0,
      "outputs": []
    },
    {
      "cell_type": "code",
      "metadata": {
        "id": "TxFbcLfeA8AZ",
        "colab_type": "code",
        "colab": {}
      },
      "source": [
        ""
      ],
      "execution_count": 0,
      "outputs": []
    },
    {
      "cell_type": "code",
      "metadata": {
        "id": "wMMO7-cQA79e",
        "colab_type": "code",
        "colab": {}
      },
      "source": [
        ""
      ],
      "execution_count": 0,
      "outputs": []
    },
    {
      "cell_type": "code",
      "metadata": {
        "id": "WtQOtY9-A76D",
        "colab_type": "code",
        "colab": {}
      },
      "source": [
        ""
      ],
      "execution_count": 0,
      "outputs": []
    },
    {
      "cell_type": "code",
      "metadata": {
        "id": "k8Fvu7iKA72u",
        "colab_type": "code",
        "colab": {}
      },
      "source": [
        ""
      ],
      "execution_count": 0,
      "outputs": []
    }
  ]
}